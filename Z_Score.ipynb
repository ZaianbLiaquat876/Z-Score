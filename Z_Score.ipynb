{
  "nbformat": 4,
  "nbformat_minor": 0,
  "metadata": {
    "colab": {
      "name": "Z Score.ipynb",
      "provenance": [],
      "collapsed_sections": []
    },
    "kernelspec": {
      "name": "python3",
      "display_name": "Python 3"
    },
    "language_info": {
      "name": "python"
    }
  },
  "cells": [
    {
      "cell_type": "code",
      "execution_count": 1,
      "metadata": {
        "id": "AMX8nWI0sh8-"
      },
      "outputs": [],
      "source": [
        "import numpy as np\n",
        "import pandas as pd\n",
        "import scipy.stats as stats"
      ]
    },
    {
      "cell_type": "markdown",
      "source": [
        "Step 1: Import modules\n",
        "Step 2: Create an array of values"
      ],
      "metadata": {
        "id": "0-HGftxjtrzZ"
      }
    },
    {
      "cell_type": "code",
      "source": [
        "data = np.array([6, 7, 7, 12, 13, 13, 13, 15, 16, 19, 22])"
      ],
      "metadata": {
        "id": "GLgeny5Zt41A"
      },
      "execution_count": 2,
      "outputs": []
    },
    {
      "cell_type": "code",
      "source": [
        ""
      ],
      "metadata": {
        "id": "voqk8RpVt42C"
      },
      "execution_count": null,
      "outputs": []
    },
    {
      "cell_type": "markdown",
      "source": [
        "Step 3: calculate the z-score for each value in the array. "
      ],
      "metadata": {
        "id": "-H7jhyiwuQw_"
      }
    },
    {
      "cell_type": "code",
      "source": [
        "stats.zscore(data)"
      ],
      "metadata": {
        "colab": {
          "base_uri": "https://localhost:8080/"
        },
        "id": "-xclf3h6udZn",
        "outputId": "c172fae5-b15c-4fa7-dbb9-a7d1d02ab74e"
      },
      "execution_count": 3,
      "outputs": [
        {
          "output_type": "execute_result",
          "data": {
            "text/plain": [
              "array([-1.46249406, -1.25356634, -1.25356634, -0.20892772,  0.        ,\n",
              "        0.        ,  0.        ,  0.41785545,  0.62678317,  1.25356634,\n",
              "        1.88034951])"
            ]
          },
          "metadata": {},
          "execution_count": 3
        }
      ]
    },
    {
      "cell_type": "markdown",
      "source": [
        ""
      ],
      "metadata": {
        "id": "3fk-ierFvXCO"
      }
    },
    {
      "cell_type": "markdown",
      "source": [
        "Each z-score tells us how many standard deviations away an individual value is from the mean.For example:\n",
        "The first value of \"6\" in the array is 1.394 standard deviations below the mean.The fifth value of \"13\" in the array is 0 standard deviations away fom the mean,i.e. it is equal to the mean.The last value of \"22\" in the array is 1.793 standard deviations above the mean."
      ],
      "metadata": {
        "id": "P3lTm_NovXDi"
      }
    }
  ]
}